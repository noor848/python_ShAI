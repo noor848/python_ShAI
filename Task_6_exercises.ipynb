{
  "cells": [
    {
      "cell_type": "markdown",
      "metadata": {
        "id": "view-in-github",
        "colab_type": "text"
      },
      "source": [
        "<a href=\"https://colab.research.google.com/github/noor848/python_ShAI/blob/main/Task_6_exercises.ipynb\" target=\"_parent\"><img src=\"https://colab.research.google.com/assets/colab-badge.svg\" alt=\"Open In Colab\"/></a>"
      ]
    },
    {
      "cell_type": "markdown",
      "metadata": {
        "id": "uua1wvw7iQB4"
      },
      "source": [
        "![](logo1.jpg)"
      ]
    },
    {
      "cell_type": "markdown",
      "metadata": {
        "id": "IMnWC3LuifEi"
      },
      "source": [
        "# **shAI Training 2021 | Level 1**\n",
        "\n",
        "## Task #6 (End-to-End ML Project {part_2})"
      ]
    },
    {
      "cell_type": "markdown",
      "metadata": {
        "id": "1rbe_ZnKi-uY"
      },
      "source": [
        "## Welcome to the exercises for reviewing second part of end to end ML project.\n",
        "**Make sure that you read and understand ch2 from the hands-on ML book (page 72 to the end of the chapter ) before start with this notebook.**\n",
        "\n",
        "**If you stuck with anything reread that part from the book and feel free to ask about anything in the messenger group as you go along.**\n",
        "\n",
        " ## Good Luck : )"
      ]
    },
    {
      "cell_type": "markdown",
      "metadata": {
        "id": "zAbRZ0fwfOb4"
      },
      "source": [
        "## first run the following cell for the first part of the project to continue your work "
      ]
    },
    {
      "cell_type": "code",
      "execution_count": 1,
      "metadata": {
        "id": "Q3v160SJfL7U"
      },
      "outputs": [],
      "source": [
        "import numpy as np\n",
        "import pandas as pd\n",
        "import matplotlib.pyplot as plt\n",
        "%matplotlib inline \n",
        "import seaborn as sns\n",
        "from sklearn.model_selection import train_test_split\n",
        "from pandas.plotting import scatter_matrix\n",
        "from sklearn.impute import SimpleImputer\n",
        "from sklearn.preprocessing import OneHotEncoder\n",
        "from sklearn.base import BaseEstimator, TransformerMixin\n",
        "from sklearn.pipeline import Pipeline\n",
        "from sklearn.preprocessing import StandardScaler\n",
        "from sklearn.compose import ColumnTransformer"
      ]
    },
    {
      "cell_type": "code",
      "execution_count": 2,
      "metadata": {
        "id": "ObbhNRgSfu6_"
      },
      "outputs": [],
      "source": [
        "import os\n",
        "import tarfile\n",
        "import urllib\n",
        "DOWNLOAD_ROOT = \"https://raw.githubusercontent.com/ageron/handson-ml2/master/\"\n",
        "HOUSING_PATH = os.path.join(\"datasets\", \"housing\")\n",
        "HOUSING_URL = DOWNLOAD_ROOT + \"datasets/housing/housing.tgz\"\n",
        "\n",
        "def fetch_housing_data(housing_url=HOUSING_URL, housing_path=HOUSING_PATH):\n",
        "    os.makedirs(housing_path, exist_ok=True)\n",
        "    tgz_path = os.path.join(housing_path, \"housing.tgz\")\n",
        "    urllib.request.urlretrieve(housing_url, tgz_path)\n",
        "    housing_tgz = tarfile.open(tgz_path)\n",
        "    housing_tgz.extractall(path=housing_path)\n",
        "    housing_tgz.close()\n",
        "    \n",
        "def load_housing_data(housing_path=HOUSING_PATH):\n",
        "   csv_path = os.path.join(housing_path, \"housing.csv\")\n",
        "   return pd.read_csv(csv_path)\n",
        "   \n",
        "fetch_housing_data()\n",
        "housing = load_housing_data()\n",
        "\n",
        "rooms_ix, bedrooms_ix, population_ix, household_ix = [\n",
        "    list(housing.columns).index(col)\n",
        "    for col in (\"total_rooms\", \"total_bedrooms\", \"population\", \"households\")]\n",
        "\n",
        "class CombinedAttributesAdder(BaseEstimator, TransformerMixin):\n",
        "    def __init__(self, add_bedrooms_per_room = True):\n",
        "        self.add_bedrooms_per_room = add_bedrooms_per_room\n",
        "    def fit(self, X, y=None):\n",
        "        return self  # nothing else to do\n",
        "    def transform(self, X, y=None):\n",
        "        rooms_per_household = X[:, rooms_ix] / X[:, household_ix]\n",
        "        population_per_household = X[:, population_ix] / X[:, household_ix]\n",
        "        if self.add_bedrooms_per_room:\n",
        "            bedrooms_per_room = X[:, bedrooms_ix] / X[:, rooms_ix]\n",
        "            return np.c_[X, rooms_per_household, population_per_household,\n",
        "                         bedrooms_per_room]\n",
        "        else:\n",
        "            return np.c_[X, rooms_per_household, population_per_household]\n",
        "        \n",
        "train_set, test_set = train_test_split(housing, test_size=0.2, random_state=42)\n",
        "housing = train_set.drop(\"median_house_value\", axis=1)\n",
        "housing_labels = train_set[\"median_house_value\"].copy()\n",
        "\n",
        "housing_num = housing.drop(\"ocean_proximity\", axis=1)\n",
        "num_attribs = list(housing_num)\n",
        "cat_attribs = [\"ocean_proximity\"]\n",
        "\n",
        "num_pipeline = Pipeline([\n",
        " ('imputer', SimpleImputer(strategy=\"median\")),\n",
        " ('attribs_adder', CombinedAttributesAdder()),\n",
        " ('std_scaler', StandardScaler())])\n",
        "\n",
        "full_pipeline = ColumnTransformer([\n",
        " (\"num\", num_pipeline, num_attribs),\n",
        " (\"cat\", OneHotEncoder(), cat_attribs)])\n",
        "\n",
        "housing_prepared = full_pipeline.fit_transform(housing) ####X"
      ]
    },
    {
      "cell_type": "markdown",
      "metadata": {
        "id": "wa6vPfm6jxsF"
      },
      "source": [
        "# 1- Select and Train a Model\n",
        "\n",
        "# Let’s first train a LinearRegression model "
      ]
    },
    {
      "cell_type": "code",
      "execution_count": 15,
      "metadata": {
        "id": "JCl0ZYDRjGz_"
      },
      "outputs": [],
      "source": [
        "# CODE HERE\n",
        "\n",
        "from sklearn.linear_model import LinearRegression\n",
        "lin_reg = LinearRegression()\n",
        "\n"
      ]
    },
    {
      "cell_type": "markdown",
      "metadata": {
        "id": "_nDxOY7GmTNc"
      },
      "source": [
        "# First try it out on a few instances from the training set:\n"
      ]
    },
    {
      "cell_type": "code",
      "execution_count": 13,
      "metadata": {
        "id": "7Lx7VQm7pwSQ"
      },
      "outputs": [],
      "source": [
        "some_data = housing.iloc[:5]\n",
        "some_labels = housing_labels.iloc[:5]"
      ]
    },
    {
      "cell_type": "code",
      "execution_count": 19,
      "metadata": {
        "id": "BU-ynaaIpYHO",
        "colab": {
          "base_uri": "https://localhost:8080/"
        },
        "outputId": "aca81243-cce8-4097-ca52-be1b5a691d1f"
      },
      "outputs": [
        {
          "output_type": "stream",
          "name": "stdout",
          "text": [
            "Predictions: [181746.54359616 290558.74973505 244957.50017771 146498.51061398\n",
            " 163230.42393939]\n",
            "Labels: [103000.0, 382100.0, 172600.0, 93400.0, 96500.0]\n"
          ]
        }
      ],
      "source": [
        "# CODE HERE\n",
        "\n",
        "lin_reg.fit(housing_prepared,housing_labels)\n",
        "\n",
        "some_data_prepared = full_pipeline.transform(some_data)\n",
        "print(\"Predictions:\", lin_reg.predict(some_data_prepared))\n",
        "print( 'Labels:' , list(some_labels))\n"
      ]
    },
    {
      "cell_type": "markdown",
      "metadata": {
        "id": "QjmwxoU-qFnb"
      },
      "source": [
        "# measure this regression model’s RMSE on the whole training set \n",
        "* sing Scikit-Learn’s mean_squared_error() function:"
      ]
    },
    {
      "cell_type": "code",
      "execution_count": null,
      "metadata": {
        "id": "rczx22dFqRMc"
      },
      "outputs": [],
      "source": [
        "from sklearn.metrics import mean_squared_error"
      ]
    },
    {
      "cell_type": "code",
      "execution_count": 22,
      "metadata": {
        "id": "aCYZh9ExqWMJ",
        "colab": {
          "base_uri": "https://localhost:8080/"
        },
        "outputId": "ec7d6ef7-e7a2-4b2b-ae56-44e1bb14111e"
      },
      "outputs": [
        {
          "output_type": "execute_result",
          "data": {
            "text/plain": [
              "67593.20745775253"
            ]
          },
          "metadata": {},
          "execution_count": 22
        }
      ],
      "source": [
        "# CODE HERE\n",
        "\n",
        "\n",
        "from sklearn.metrics import mean_squared_error\n",
        "housing_predictlons = lin_reg.predict(housing_prepared) \n",
        "lin_nse = mean_squared_error(housing_labels, housing_predictlons) \n",
        "lin_nse = np.sqrt(lin_nse)\n",
        "lin_nse\n",
        "\n"
      ]
    },
    {
      "cell_type": "markdown",
      "metadata": {
        "id": "RLsKfuQpcfyx"
      },
      "source": [
        "# judge on the RMSE result for this model \n",
        "write down your answar "
      ]
    },
    {
      "cell_type": "markdown",
      "metadata": {
        "id": "nnBVcR-MeFqa"
      },
      "source": [
        "your answer goes here"
      ]
    },
    {
      "cell_type": "markdown",
      "metadata": {
        "id": "vImNak3CqqFo"
      },
      "source": [
        "# Let’s train a Decision Tree Regressor model \n",
        "## more powerful model"
      ]
    },
    {
      "cell_type": "code",
      "execution_count": 25,
      "metadata": {
        "id": "8syfCBveqY2q"
      },
      "outputs": [],
      "source": [
        "from sklearn.tree import DecisionTreeRegressor "
      ]
    },
    {
      "cell_type": "code",
      "execution_count": 26,
      "metadata": {
        "id": "vrUPZzBhq-do",
        "colab": {
          "base_uri": "https://localhost:8080/"
        },
        "outputId": "a8824ef3-1a84-4757-a912-d383fafcaee3"
      },
      "outputs": [
        {
          "output_type": "execute_result",
          "data": {
            "text/plain": [
              "0.0"
            ]
          },
          "metadata": {},
          "execution_count": 26
        }
      ],
      "source": [
        "# CODE HERE\n",
        "tree_reg = DecisionTreeRegressor()\n",
        "tree_reg.fit(housing_prepared, housing_labels)\n",
        "\n",
        "\n"
      ]
    },
    {
      "cell_type": "markdown",
      "metadata": {
        "id": "kRhxYj0Aq9op"
      },
      "source": [
        "# Now evaluate the model on the training set \n",
        "* using Scikit-Learn’s mean_squared_error() function:"
      ]
    },
    {
      "cell_type": "code",
      "execution_count": 33,
      "metadata": {
        "id": "DYCxUSCkrNIY",
        "colab": {
          "base_uri": "https://localhost:8080/"
        },
        "outputId": "909878d6-9fd5-4b7b-9c77-72fda0ffe326"
      },
      "outputs": [
        {
          "output_type": "execute_result",
          "data": {
            "text/plain": [
              "0.0"
            ]
          },
          "metadata": {},
          "execution_count": 33
        }
      ],
      "source": [
        "# CODE HERE\n",
        "\n",
        "housing_predictlons = tree_reg.predict(housing_prepared) \n",
        "tree_mse = mean_squared_error(housing_labels, housing_predictlons)\n",
        "tree_mse = np.sqrt(tree_mse) \n",
        "tree_mse\n",
        "\n",
        "\n"
      ]
    },
    {
      "cell_type": "markdown",
      "metadata": {
        "id": "CSxXI9b8iZPs"
      },
      "source": [
        "# Explaine this result \n",
        "write down your answar"
      ]
    },
    {
      "cell_type": "markdown",
      "metadata": {
        "id": "BVSMQ7kbiZSi"
      },
      "source": [
        "your answer goes here"
      ]
    },
    {
      "cell_type": "markdown",
      "metadata": {
        "id": "rj7b4zSPrdyH"
      },
      "source": [
        "# Evaluation Using Cross-Validation\n",
        "\n",
        "1-split the training set into 10 distinct subsets then train and evaluate the Decision Tree model"
      ]
    },
    {
      "cell_type": "code",
      "execution_count": null,
      "metadata": {
        "id": "JmNrgsBrwIe3"
      },
      "outputs": [],
      "source": [
        "from sklearn.model_selection import cross_val_score"
      ]
    },
    {
      "cell_type": "code",
      "execution_count": 30,
      "metadata": {
        "id": "yXNPsWjcwMd_",
        "colab": {
          "base_uri": "https://localhost:8080/"
        },
        "outputId": "597409fe-1227-4061-c1b8-575ae3afd389"
      },
      "outputs": [
        {
          "output_type": "execute_result",
          "data": {
            "text/plain": [
              "array([65546.97061046, 70901.56609   , 68883.74796111, 70194.25134169,\n",
              "       72792.68434094, 67377.44494282, 66714.21840149, 67644.18227249,\n",
              "       64595.48337524, 71005.93380083])"
            ]
          },
          "metadata": {},
          "execution_count": 30
        }
      ],
      "source": [
        "# CODE HERE\n",
        "\n",
        "\n",
        "from sklearn.model_selection import cross_val_score\n",
        "scores = cross_val_score(tree_reg, housing_prepared, housing_labels,scoring=\"neg_mean_squared_error\", cv=10) \n",
        "tree_rnse_scores = np.sqrt(-scores)\n",
        "tree_rnse_scores\n"
      ]
    },
    {
      "cell_type": "markdown",
      "metadata": {
        "id": "KqReIY3urLP8"
      },
      "source": [
        "2- display the resultant scores and calculate its Mean and Standard deviation"
      ]
    },
    {
      "cell_type": "code",
      "execution_count": 35,
      "metadata": {
        "id": "1g8jIq-6raVF",
        "colab": {
          "base_uri": "https://localhost:8080/"
        },
        "outputId": "0ea576eb-722d-4eed-c452-8cceab4809c0"
      },
      "outputs": [
        {
          "output_type": "stream",
          "name": "stdout",
          "text": [
            "Scores: [65546.97061046 70901.56609    68883.74796111 70194.25134169\n",
            " 72792.68434094 67377.44494282 66714.21840149 67644.18227249\n",
            " 64595.48337524 71005.93380083]\n",
            "Mean: 68565.6483137073\n",
            "Standard deviation: 2501.923624943894\n"
          ]
        }
      ],
      "source": [
        "# CODE HERE\n",
        "def display_scores(scores): \n",
        "  print(\"Scores:\", scores) \n",
        "  print( \"Mean:\", scores.mean())\n",
        "  print(\"Standard deviation:\", scores.std())\n",
        "display_scores(tree_rnse_scores)\n"
      ]
    },
    {
      "cell_type": "markdown",
      "metadata": {
        "id": "G6paGk_hsGGY"
      },
      "source": [
        "3-repaet the same steps to compute the same scores for the Linear Regression  model \n",
        "\n",
        "*notice the difference between the results of the two models*"
      ]
    },
    {
      "cell_type": "code",
      "execution_count": 37,
      "metadata": {
        "id": "ol3C6DmusWfx",
        "colab": {
          "base_uri": "https://localhost:8080/"
        },
        "outputId": "49644d4a-eaa1-4eb3-9a8d-e89f6ef4f91d"
      },
      "outputs": [
        {
          "output_type": "stream",
          "name": "stdout",
          "text": [
            "Scores: [65000.67382615 70960.56056304 67122.63935124 66089.63153865\n",
            " 68402.54686442 65266.34735288 65218.78174481 68525.46981754\n",
            " 72739.87555996 68957.34111906]\n",
            "Mean: 67828.38677377408\n",
            "Standard deviation: 2468.091395065227\n"
          ]
        }
      ],
      "source": [
        "# CODE HERE\n",
        "\n",
        "scores = cross_val_score(lin_reg, housing_prepared, housing_labels,scoring=\"neg_mean_squared_error\", cv=10) \n",
        "tree_rnse_scores = np.sqrt(-scores)\n",
        "tree_rnse_scores\n",
        "\n",
        "def display_scores(scores): \n",
        "  print(\"Scores:\", scores) \n",
        "  print( \"Mean:\", scores.mean())\n",
        "  print(\"Standard deviation:\", scores.std())\n",
        "display_scores(tree_rnse_scores)\n"
      ]
    },
    {
      "cell_type": "markdown",
      "metadata": {
        "id": "fdQ85uTEtDy1"
      },
      "source": [
        "## Let’s train one last model the RandomForestRegressor."
      ]
    },
    {
      "cell_type": "code",
      "execution_count": null,
      "metadata": {
        "id": "O1PPFq5TtdDP"
      },
      "outputs": [],
      "source": [
        "# CODE HERE\n",
        "\n",
        "from sklearn.ensemble import RandomForestRegressor\n",
        "forest_reg = RandomForestRegressor()\n",
        "forest_reg.fit(housing_prepared, housing_labels)\n",
        "\n"
      ]
    },
    {
      "cell_type": "markdown",
      "metadata": {
        "id": "gSxaBthCtw93"
      },
      "source": [
        "# repeat the same steps to compute the same scores its Mean and Standard deviation for the Random Forest model"
      ]
    },
    {
      "cell_type": "code",
      "execution_count": null,
      "metadata": {
        "id": "AAc2MOQwt2lC"
      },
      "outputs": [],
      "source": [
        "# CODE HERE\n",
        "\n",
        "scores = cross_val_score(forest_reg, housing_prepared, housing_labels,scoring=\"neg_mean_squared_error\", cv=10) \n",
        "tree_rnse_scores = np.sqrt(-scores)\n",
        "tree_rnse_scores\n",
        "\n",
        "def display_scores(scores): \n",
        "  print(\"Scores:\", scores) \n",
        "  print( \"Mean:\", scores.mean())\n",
        "  print(\"Standard deviation:\", scores.std())\n",
        "display_scores(tree_rnse_scores)\n"
      ]
    },
    {
      "cell_type": "markdown",
      "metadata": {
        "id": "Vn2u9DOxvE5S"
      },
      "source": [
        "# Save every model you experiment with \n",
        "*using the joblib library*"
      ]
    },
    {
      "cell_type": "code",
      "execution_count": null,
      "metadata": {
        "id": "mWyIi3mtva85"
      },
      "outputs": [],
      "source": [
        "# CODE HERE\n",
        "import joblib\n",
        "joblib.dump(forest_reg, \"my_model.pkl\")\n",
        "my_model_loaded = joblib.load(\"my_model.pkl\")\n"
      ]
    },
    {
      "cell_type": "markdown",
      "metadata": {
        "id": "gIC6O-h0wOBJ"
      },
      "source": [
        "## now you have a shortlist of promising models. You now need to\n",
        "## fine-tune them!\n",
        "# Fine-Tune Your Model\n",
        "\n",
        "## 1- Grid Search\n",
        "## evaluate all the possible combinations of hyperparameter values for the RandomForestRegressor \n",
        "*It may take a long time*"
      ]
    },
    {
      "cell_type": "code",
      "execution_count": null,
      "metadata": {
        "id": "Y8Wqd-Pix3Sm"
      },
      "outputs": [],
      "source": [
        "from sklearn.model_selection import GridSearchCV"
      ]
    },
    {
      "cell_type": "code",
      "execution_count": null,
      "metadata": {
        "id": "j-zNvGLhyGGb"
      },
      "outputs": [],
      "source": [
        "# CODE HERE\n",
        "\n",
        "\n",
        "from sklearn.model_selection import GridSearchCV\n",
        "param_grid = [\n",
        "{'n_estimators': [3, 16, 30], 'max_features': [2, 4, 6, 8]},\n",
        "{'bootstrap': [False], 'n_estimators': [3, 10], 'nax_features': [2, 3, 4]},\n",
        "]\n"
      ]
    },
    {
      "cell_type": "markdown",
      "metadata": {
        "id": "EhYbsAnE0j75"
      },
      "source": [
        "with the evaluation scores"
      ]
    },
    {
      "cell_type": "code",
      "execution_count": null,
      "metadata": {
        "id": "qhDCrx0Y0ocN"
      },
      "outputs": [],
      "source": [
        "# CODE HERE\n",
        "\n",
        "\n",
        "forest_reg = RandomForestRegressor()\n",
        "grid_search = GridSearchCV(forest_reg, param_grid, cv=5,\n",
        "scoring='neg_nean_squared_error', return_train_score=True)\n",
        "grid_search.fit(housing_prepared, housing_labels)\n"
      ]
    },
    {
      "cell_type": "markdown",
      "metadata": {
        "id": "pjRCrlqEyH1A"
      },
      "source": [
        "# Analyze the Best Models and Their Errors\n",
        "1-indicate the relative importance of each attribute"
      ]
    },
    {
      "cell_type": "code",
      "execution_count": null,
      "metadata": {
        "id": "y2MkCD1Byh9F"
      },
      "outputs": [],
      "source": [
        "# CODE HERE\n",
        "\n",
        "\n",
        "feature_importances = grid_search.best_estimator_.feature_importances.feature_importances_\n",
        "\n"
      ]
    },
    {
      "cell_type": "markdown",
      "metadata": {
        "id": "b01L7mUm1xTV"
      },
      "source": [
        "2-display these importance scores next to their corresponding attribute names:"
      ]
    },
    {
      "cell_type": "code",
      "execution_count": 52,
      "metadata": {
        "id": "dau43zXt14i7",
        "colab": {
          "base_uri": "https://localhost:8080/",
          "height": 218
        },
        "outputId": "b5320155-93b0-4669-88ba-48dffa052d08"
      },
      "outputs": [
        {
          "output_type": "error",
          "ename": "NameError",
          "evalue": "ignored",
          "traceback": [
            "\u001b[0;31m---------------------------------------------------------------------------\u001b[0m",
            "\u001b[0;31mNameError\u001b[0m                                 Traceback (most recent call last)",
            "\u001b[0;32m<ipython-input-52-fe33cb7edf87>\u001b[0m in \u001b[0;36m<module>\u001b[0;34m()\u001b[0m\n\u001b[1;32m      7\u001b[0m \u001b[0mcat_one_hot_attribs\u001b[0m \u001b[0;34m=\u001b[0m \u001b[0mlist\u001b[0m\u001b[0;34m(\u001b[0m\u001b[0mcat_encoder\u001b[0m\u001b[0;34m.\u001b[0m\u001b[0mcategories_\u001b[0m\u001b[0;34m[\u001b[0m\u001b[0;36m0\u001b[0m\u001b[0;34m]\u001b[0m\u001b[0;34m)\u001b[0m\u001b[0;34m\u001b[0m\u001b[0;34m\u001b[0m\u001b[0m\n\u001b[1;32m      8\u001b[0m \u001b[0mattributes\u001b[0m \u001b[0;34m=\u001b[0m \u001b[0mnum_attribs\u001b[0m \u001b[0;34m+\u001b[0m \u001b[0mextra_attribs\u001b[0m \u001b[0;34m+\u001b[0m \u001b[0mcat_one_hot_attribs\u001b[0m\u001b[0;34m\u001b[0m\u001b[0;34m\u001b[0m\u001b[0m\n\u001b[0;32m----> 9\u001b[0;31m \u001b[0msorted\u001b[0m\u001b[0;34m(\u001b[0m\u001b[0mzip\u001b[0m\u001b[0;34m(\u001b[0m\u001b[0mfeature_importances\u001b[0m\u001b[0;34m,\u001b[0m \u001b[0mattributes\u001b[0m\u001b[0;34m)\u001b[0m\u001b[0;34m,\u001b[0m \u001b[0mreverse\u001b[0m\u001b[0;34m=\u001b[0m\u001b[0;32mTrue\u001b[0m\u001b[0;34m)\u001b[0m\u001b[0;34m\u001b[0m\u001b[0;34m\u001b[0m\u001b[0m\n\u001b[0m\u001b[1;32m     10\u001b[0m \u001b[0;34m\u001b[0m\u001b[0m\n",
            "\u001b[0;31mNameError\u001b[0m: name 'feature_importances' is not defined"
          ]
        }
      ],
      "source": [
        "# CODE HERE\n",
        "\n",
        "\n",
        "extra_attribs = [\"roons_per_hhold\" , \"pop_per_hhold\", \"bedrooms_per_room\"]\n",
        "\n",
        "cat_encoder= full_pipeline.named_transformers_[\"cat\"]\n",
        "cat_one_hot_attribs = list(cat_encoder.categories_[0]) \n",
        "attributes = num_attribs + extra_attribs + cat_one_hot_attribs\n",
        "sorted(zip(feature_importances, attributes), reverse=True)\n",
        "\n"
      ]
    },
    {
      "cell_type": "markdown",
      "metadata": {
        "id": "esOPiD6Pyice"
      },
      "source": [
        "## Now is the time to evaluate the final model on the test set.\n",
        "# Evaluate Your System on the Test Set\n",
        "\n",
        "1-get the predictors and the labels from your test set"
      ]
    },
    {
      "cell_type": "code",
      "execution_count": null,
      "metadata": {
        "id": "ZrmGwOEyykad"
      },
      "outputs": [],
      "source": [
        "# CODE HERE\n",
        "\n",
        "final_model = grid_search.best_estimator_\n",
        "X_test = strat_test_set.drop( \"median_house_value \", axis=l) \n",
        "y_test = strat_test_set[ \"median_house_value \"].copy()\n",
        "X_test_prepared = full_pipeline.transform(X_test)\n",
        "\n"
      ]
    },
    {
      "cell_type": "markdown",
      "metadata": {
        "id": "lhkKu23G2yNd"
      },
      "source": [
        "2-run your full_pipeline to transform the data"
      ]
    },
    {
      "cell_type": "code",
      "execution_count": null,
      "metadata": {
        "id": "VBfW1WG823TE"
      },
      "outputs": [],
      "source": [
        "# CODE HERE\n",
        "final_predictions = final_model.predict(X_test_prepared)\n",
        "final_mse = mean_squared_error(y_test, final_predictions)\n",
        "final_rmse = np.sqrt(final_mse)\n",
        "\n"
      ]
    },
    {
      "cell_type": "markdown",
      "metadata": {
        "id": "hNVnMSJy28xt"
      },
      "source": [
        "3-evaluate the final model on the test set"
      ]
    },
    {
      "cell_type": "code",
      "execution_count": null,
      "metadata": {
        "id": "HrcgAUoy2_tc"
      },
      "outputs": [],
      "source": [
        "# CODE HERE\n",
        "\n",
        "final_predictions = final_model.predict(X_test_prepared)\n",
        "final_mse = mean_squared_error(y_test, final_predictions)\n",
        "final_rmse = np.sqrt(final_mse)\n",
        "\n"
      ]
    },
    {
      "cell_type": "markdown",
      "metadata": {
        "id": "wYBxgnsx3Ipr"
      },
      "source": [
        "# compute a 95% confidence interval for the generalization error \n",
        "*using scipy.stats.t.interval():*"
      ]
    },
    {
      "cell_type": "code",
      "execution_count": null,
      "metadata": {
        "id": "ngWpgPrE3NaS"
      },
      "outputs": [],
      "source": [
        "from scipy import stats"
      ]
    },
    {
      "cell_type": "code",
      "execution_count": null,
      "metadata": {
        "id": "6RFaMou83WBY"
      },
      "outputs": [],
      "source": [
        "# CODE HERE\n",
        "\n",
        "from scipy import stats \n",
        "confidence =0.95\n",
        "squared_errors = (final_predictlons - y_test) ** 2\n",
        "np.sqrt(stats.t.interval(confidence, len(squared_errors) -1,\n",
        "loc=squared_errors.mean(), scale=stats.sem(squared_errors)))\n",
        "\n",
        "\n",
        "\n"
      ]
    },
    {
      "cell_type": "markdown",
      "metadata": {
        "id": "fTsy6N8Uytpo"
      },
      "source": [
        "# Great Job!\n",
        "# #shAI_Club"
      ]
    }
  ],
  "metadata": {
    "colab": {
      "name": "Task 6_exercises.ipynb",
      "provenance": [],
      "include_colab_link": true
    },
    "kernelspec": {
      "display_name": "Python 3",
      "language": "python",
      "name": "python3"
    },
    "language_info": {
      "codemirror_mode": {
        "name": "ipython",
        "version": 3
      },
      "file_extension": ".py",
      "mimetype": "text/x-python",
      "name": "python",
      "nbconvert_exporter": "python",
      "pygments_lexer": "ipython3",
      "version": "3.7.9"
    }
  },
  "nbformat": 4,
  "nbformat_minor": 0
}